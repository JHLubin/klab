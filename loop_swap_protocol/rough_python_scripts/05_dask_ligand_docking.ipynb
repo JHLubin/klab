{
 "cells": [
  {
   "cell_type": "markdown",
   "metadata": {},
   "source": [
    "# Parallelized Global Ligand Docking with `pyrosetta.distributed`\n",
    "\n",
    " Presenter: Jason Klima (klimaj@uw.edu)"
   ]
  },
  {
   "cell_type": "code",
   "execution_count": 1,
   "metadata": {},
   "outputs": [
    {
     "name": "stderr",
     "output_type": "stream",
     "text": [
      "/Users/andrew/anaconda3/envs/pyrosetta/lib/python3.6/site-packages/dask_jobqueue/config.py:12: YAMLLoadWarning: calling yaml.load() without Loader=... is deprecated, as the default Loader is unsafe. Please read https://msg.pyyaml.org/load for full details.\n",
      "  defaults = yaml.load(f)\n"
     ]
    },
    {
     "data": {
      "text/html": [
       "<style>.container { width:100% !important; }</style>"
      ],
      "text/plain": [
       "<IPython.core.display.HTML object>"
      ]
     },
     "metadata": {},
     "output_type": "display_data"
    }
   ],
   "source": [
    "import logging\n",
    "logging.basicConfig(level=logging.INFO)\n",
    "import json\n",
    "import pandas as pd\n",
    "import matplotlib\n",
    "%matplotlib inline\n",
    "import os\n",
    "import py3Dmol\n",
    "import pyrosetta\n",
    "import pyrosetta.distributed.dask\n",
    "import pyrosetta.distributed.io as io\n",
    "import pyrosetta.distributed.packed_pose as packed_pose\n",
    "import pyrosetta.distributed.tasks.rosetta_scripts as rosetta_scripts\n",
    "import pyrosetta.distributed.tasks.score as score\n",
    "import seaborn\n",
    "seaborn.set()\n",
    "\n",
    "from dask_jobqueue import SLURMCluster\n",
    "from dask.distributed import Client, LocalCluster, progress\n",
    "from IPython.core.display import display, HTML\n",
    "display(HTML(\"<style>.container { width:100% !important; }</style>\"))"
   ]
  },
  {
   "cell_type": "markdown",
   "metadata": {},
   "source": [
    " Setup PyRosetta command line flags:"
   ]
  },
  {
   "cell_type": "code",
   "execution_count": 2,
   "metadata": {},
   "outputs": [
    {
     "name": "stderr",
     "output_type": "stream",
     "text": [
      "INFO:pyrosetta.distributed:maybe_init performing pyrosetta initialization: {'extra_options': '-extra_res_fa /Users/andrew/rosetta/pyrosetta_code_school/apl_workthrough/source/Session20_Parallelizing_Code/input/ATP.am1-bcc.fa.params -ignore_unrecognized_res 1 -out:level 200'}\n",
      "INFO:pyrosetta.rosetta:Found rosetta database at: /Users/andrew/anaconda3/envs/pyrosetta/lib/python3.6/site-packages/pyrosetta/database; using it....\n",
      "INFO:pyrosetta.rosetta:PyRosetta-4 2019 [Rosetta PyRosetta4.conda.mac.python36.Release 2019.19+release.5adc612fd9dee20f808a07e761610d95698b0f35 2019-05-10T09:04:00] retrieved from: http://www.pyrosetta.org\n",
      "(C) Copyright Rosetta Commons Member Institutions. Created in JHU by Sergey Lyskov and PyRosetta Team.\n"
     ]
    },
    {
     "name": "stdout",
     "output_type": "stream",
     "text": [
      "PyRosetta-4 2019 [Rosetta PyRosetta4.conda.mac.python36.Release 2019.19+release.5adc612fd9dee20f808a07e761610d95698b0f35 2019-05-10T09:04:00] retrieved from: http://www.pyrosetta.org\n",
      "(C) Copyright Rosetta Commons Member Institutions. Created in JHU by Sergey Lyskov and PyRosetta Team.\n"
     ]
    }
   ],
   "source": [
    "ligand_params = os.path.join(os.getcwd(), \"input/ATP.am1-bcc.fa.params\")\n",
    "flags = f\"\"\"\n",
    "-extra_res_fa {ligand_params}\n",
    "-ignore_unrecognized_res 1\n",
    "-out:level 200\n",
    "\"\"\"\n",
    "pyrosetta.distributed.dask.init_notebook(flags)"
   ]
  },
  {
   "cell_type": "markdown",
   "metadata": {},
   "source": [
    "## Whether you are running this Jupyter Notebook example on laptop/desktop or high-performance computing (HPC) cluster, run one of the following cells:"
   ]
  },
  {
   "cell_type": "markdown",
   "metadata": {},
   "source": [
    " 1. If you are running on a laptop/desktop:"
   ]
  },
  {
   "cell_type": "code",
   "execution_count": 3,
   "metadata": {},
   "outputs": [
    {
     "data": {
      "text/plain": [
       "{'tcp://127.0.0.1:52498': None,\n",
       " 'tcp://127.0.0.1:52500': None,\n",
       " 'tcp://127.0.0.1:52501': None,\n",
       " 'tcp://127.0.0.1:52504': None}"
      ]
     },
     "execution_count": 3,
     "metadata": {},
     "output_type": "execute_result"
    }
   ],
   "source": [
    "cluster = LocalCluster(n_workers=4, threads_per_worker=1)\n",
    "client = Client(cluster)\n",
    "client.run(pyrosetta.distributed.dask.init_notebook, flags)"
   ]
  },
  {
   "cell_type": "markdown",
   "metadata": {},
   "source": [
    " 2. If you are running this on a high-performance computing (HPC) cluster with SLURM scheduling, uncomment and run the following cell to setup `dask` workers to process docking simulations:"
   ]
  },
  {
   "cell_type": "code",
   "execution_count": null,
   "metadata": {},
   "outputs": [],
   "source": [
    "# scratch_dir = os.path.join(\"/net/scratch\", os.environ[\"USER\"])\n",
    "# cluster = SLURMCluster(cores=1,\n",
    "#                        processes=1,\n",
    "#                        job_cpu=1,\n",
    "#                        memory=\"3GB\",\n",
    "#                        queue=\"interactive\",\n",
    "#                        local_directory=scratch_dir,\n",
    "#                        job_extra=[\"-o {}\".format(os.path.join(scratch_dir, \"slurm-%j.out\"))],\n",
    "#                        extra=pyrosetta.distributed.dask.worker_extra(init_flags=flags))\n",
    "# cluster.scale(20) # Instead of `cluster.scale(20)`, could use `cluster.adapt(minimum=0, maximum=20)` to automatically scale number of workers to amount of work load\n",
    "# client = Client(cluster)"
   ]
  },
  {
   "cell_type": "code",
   "execution_count": 4,
   "metadata": {},
   "outputs": [
    {
     "data": {
      "text/html": [
       "<table style=\"border: 2px solid white;\">\n",
       "<tr>\n",
       "<td style=\"vertical-align: top; border: 0px solid white\">\n",
       "<h3>Client</h3>\n",
       "<ul>\n",
       "  <li><b>Scheduler: </b>tcp://127.0.0.1:52493\n",
       "  <li><b>Dashboard: </b><a href='http://127.0.0.1:8787/status' target='_blank'>http://127.0.0.1:8787/status</a>\n",
       "</ul>\n",
       "</td>\n",
       "<td style=\"vertical-align: top; border: 0px solid white\">\n",
       "<h3>Cluster</h3>\n",
       "<ul>\n",
       "  <li><b>Workers: </b>4</li>\n",
       "  <li><b>Cores: </b>4</li>\n",
       "  <li><b>Memory: </b>17.18 GB</li>\n",
       "</ul>\n",
       "</td>\n",
       "</tr>\n",
       "</table>"
      ],
      "text/plain": [
       "<Client: scheduler='tcp://127.0.0.1:52493' processes=4 cores=4>"
      ]
     },
     "execution_count": 4,
     "metadata": {},
     "output_type": "execute_result"
    }
   ],
   "source": [
    "client"
   ]
  },
  {
   "cell_type": "markdown",
   "metadata": {},
   "source": [
    " Setup global ligand docking RosettaScripts protocol within `pyrosetta.distributed`:"
   ]
  },
  {
   "cell_type": "code",
   "execution_count": 5,
   "metadata": {},
   "outputs": [],
   "source": [
    "xml = \"\"\"\n",
    "<ROSETTASCRIPTS>\n",
    "  <SCOREFXNS>\n",
    "    <ScoreFunction name=\"fa_standard\" weights=\"ref2015.wts\"/>\n",
    "  </SCOREFXNS>\n",
    "  <RESIDUE_SELECTORS>\n",
    "    <Chain name=\"chX\" chains=\"X\"/>\n",
    "  </RESIDUE_SELECTORS>\n",
    "  <SIMPLE_METRICS>\n",
    "    <RMSDMetric name=\"rmsd_chX\" residue_selector=\"chX\" reference_name=\"store_native\" residue_selector_ref=\"chX\" robust=\"true\" rmsd_type=\"rmsd_all\" />\n",
    "  </SIMPLE_METRICS>\n",
    "  <SCORINGGRIDS ligand_chain=\"X\" width=\"25\">\n",
    "    <ClassicGrid grid_name=\"vdw\" weight=\"1.0\"/>\n",
    "  </SCORINGGRIDS>\n",
    "  <LIGAND_AREAS>\n",
    "    <LigandArea name=\"docking_sidechain_X\" chain=\"X\" cutoff=\"6.0\" add_nbr_radius=\"true\" all_atom_mode=\"true\" minimize_ligand=\"10\"/>\n",
    "    <LigandArea name=\"final_sidechain_X\" chain=\"X\" cutoff=\"6.0\" add_nbr_radius=\"true\" all_atom_mode=\"true\"/>\n",
    "    <LigandArea name=\"final_backbone_X\" chain=\"X\" cutoff=\"7.0\" add_nbr_radius=\"false\" all_atom_mode=\"true\" Calpha_restraints=\"0.3\"/>\n",
    "  </LIGAND_AREAS>\n",
    "  <INTERFACE_BUILDERS>\n",
    "    <InterfaceBuilder name=\"side_chain_for_docking\" ligand_areas=\"docking_sidechain_X\"/>\n",
    "    <InterfaceBuilder name=\"side_chain_for_final\" ligand_areas=\"final_sidechain_X\"/>\n",
    "    <InterfaceBuilder name=\"backbone\" ligand_areas=\"final_backbone_X\" extension_window=\"3\"/>\n",
    "  </INTERFACE_BUILDERS>\n",
    "  <MOVEMAP_BUILDERS>\n",
    "    <MoveMapBuilder name=\"docking\" sc_interface=\"side_chain_for_docking\" minimize_water=\"true\"/>\n",
    "    <MoveMapBuilder name=\"final\" sc_interface=\"side_chain_for_final\" bb_interface=\"backbone\" minimize_water=\"true\"/>\n",
    "  </MOVEMAP_BUILDERS>\n",
    "  <MOVERS>\n",
    "    <SavePoseMover name=\"spm\" restore_pose=\"0\" reference_name=\"store_native\"/>\n",
    "    <Transform name=\"transform\" chain=\"X\" box_size=\"20.0\" move_distance=\"10\" angle=\"360\" initial_perturb=\"2\" cycles=\"500\" repeats=\"5\" temperature=\"1000\"/>\n",
    "    <HighResDocker name=\"high_res_docker\" cycles=\"9\" repack_every_Nth=\"3\" scorefxn=\"fa_standard\" movemap_builder=\"docking\"/>\n",
    "    <FinalMinimizer name=\"final\" scorefxn=\"fa_standard\" movemap_builder=\"final\"/>\n",
    "  </MOVERS>\n",
    "  <FILTERS>\n",
    "      <LigInterfaceEnergy name=\"interfE\" scorefxn=\"fa_standard\" energy_cutoff=\"0.0\" confidence=\"0\"/>\n",
    "      <SimpleMetricFilter name=\"rmsd_chX\" metric=\"rmsd_chX\" cutoff=\"999999.\" comparison_type=\"lt\" confidence=\"0\"/>\n",
    "  </FILTERS>\n",
    "  <PROTOCOLS>\n",
    "    <Add mover=\"spm\"/>\n",
    "    <Add mover=\"transform\"/>\n",
    "    <Add mover=\"high_res_docker\"/>\n",
    "    <Add mover=\"final\"/>\n",
    "    <Add filter=\"interfE\"/>\n",
    "    <Add filter=\"rmsd_chX\"/>\n",
    "  </PROTOCOLS>\n",
    "</ROSETTASCRIPTS>\n",
    "\"\"\"\n",
    "xml_obj = rosetta_scripts.SingleoutputRosettaScriptsTask(xml)\n",
    "xml_obj.setup()"
   ]
  },
  {
   "cell_type": "markdown",
   "metadata": {},
   "source": [
    " Setup input pose as `PackedPose` object:"
   ]
  },
  {
   "cell_type": "code",
   "execution_count": 6,
   "metadata": {},
   "outputs": [],
   "source": [
    "pdbfile = os.path.join(os.getcwd(), \"input/test_lig.pdb\")\n",
    "pose_obj = io.pose_from_file(filename=pdbfile)w"
   ]
  },
  {
   "cell_type": "markdown",
   "metadata": {},
   "source": [
    " Submit 100 global ligand docking trajectories, very similarly to using the command line `-nstruct` flag:"
   ]
  },
  {
   "cell_type": "code",
   "execution_count": 7,
   "metadata": {},
   "outputs": [],
   "source": [
    "futures = [client.submit(xml_obj, pose_obj) for i in range(100)]\n",
    "results = [future.result() for future in futures]"
   ]
  },
  {
   "cell_type": "markdown",
   "metadata": {},
   "source": [
    " Calling `future.result()` transfers the `PackedPose` objects back to this Jupyter session, so we can inspect the scores!"
   ]
  },
  {
   "cell_type": "code",
   "execution_count": null,
   "metadata": {},
   "outputs": [],
   "source": [
    "df = pd.DataFrame.from_records(packed_pose.to_dict(results))\n",
    "df.head(10)"
   ]
  },
  {
   "cell_type": "markdown",
   "metadata": {},
   "source": [
    " Now plot the ligand binding energy landscape:"
   ]
  },
  {
   "cell_type": "code",
   "execution_count": null,
   "metadata": {},
   "outputs": [],
   "source": [
    "matplotlib.rcParams['figure.figsize'] = [12.0, 8.0]\n",
    "seaborn.scatterplot(x=\"rmsd_chX\", y=\"interfE\", data=df)"
   ]
  },
  {
   "cell_type": "markdown",
   "metadata": {},
   "source": [
    " Let's view the lowest `interfE` ligand dock:"
   ]
  },
  {
   "cell_type": "code",
   "execution_count": null,
   "metadata": {},
   "outputs": [],
   "source": [
    "%run ./visualization.py\n",
    "view_pose(list(packed_pose.dict_to_pose(df.sort_values(by=\"interfE\").head(1).to_dict()).values())[0])"
   ]
  },
  {
   "cell_type": "markdown",
   "metadata": {},
   "source": [
    " Let's view the 5 lowest `interfE` ligand docks:"
   ]
  },
  {
   "cell_type": "code",
   "execution_count": null,
   "metadata": {},
   "outputs": [],
   "source": [
    "view_poses(list(packed_pose.dict_to_pose(df.sort_values(by=\"interfE\").head(5).to_dict()).values())) "
   ]
  },
  {
   "cell_type": "markdown",
   "metadata": {},
   "source": [
    " If you wish to save any `PackedPose` objects as `.pdb` files:"
   ]
  },
  {
   "cell_type": "code",
   "execution_count": null,
   "metadata": {
    "scrolled": true
   },
   "outputs": [],
   "source": [
    "# for i, p in enumerate(results):\n",
    "#     with open(\"RESULT_%i.pdb\" % i, \"w\") as f:\n",
    "#         f.write(io.to_pdbstring(p))"
   ]
  },
  {
   "cell_type": "markdown",
   "metadata": {},
   "source": [
    " If you wish to save a scorefile:"
   ]
  },
  {
   "cell_type": "code",
   "execution_count": null,
   "metadata": {},
   "outputs": [],
   "source": [
    "with open(os.path.join(os.getcwd(), \"scores.fasc\"), \"w\") as f:\n",
    "    for result in results:\n",
    "        json.dump(result.scores, f)"
   ]
  }
 ],
 "metadata": {
  "kernelspec": {
   "display_name": "Python 3",
   "language": "python",
   "name": "python3"
  },
  "language_info": {
   "codemirror_mode": {
    "name": "ipython",
    "version": 3
   },
   "file_extension": ".py",
   "mimetype": "text/x-python",
   "name": "python",
   "nbconvert_exporter": "python",
   "pygments_lexer": "ipython3",
   "version": "3.6.7"
  }
 },
 "nbformat": 4,
 "nbformat_minor": 2
}
